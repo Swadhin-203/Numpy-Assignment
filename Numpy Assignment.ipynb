{
 "cells": [
  {
   "cell_type": "code",
   "execution_count": 2,
   "id": "6aeafdd6",
   "metadata": {},
   "outputs": [],
   "source": [
    "import numpy as np\n",
    "list_ = [\"1\",\"2\" ,\"3\" ,\"4\" ,\"5\"]\n",
    "array_list = np.array(object = list_)"
   ]
  },
  {
   "cell_type": "code",
   "execution_count": null,
   "id": "70b17213",
   "metadata": {},
   "outputs": [],
   "source": [
    "#  Q1. Is there any difference in the data type of variables list_ and array_list? If there is then write a code\n",
    "# to print the data types of both the variables.\n",
    "# Ans:Yes, there is a difference in the data type of list_ and array_list.\n",
    "# list_ is a Python list object, while array_list is a NumPy array object.\n",
    "# To print the data types of both variables, you can use the type() function in Python:\n",
    "import numpy as np\n",
    "\n",
    "list_ = ['1', '2', '3', '4', '5']\n",
    "array_list = np.array(object=list_)\n",
    "\n",
    "print(\"Data type of list_ variable: \", type(list_))\n",
    "print(\"Data type of array_list variable: \", type(array_list))\n",
    "\n"
   ]
  },
  {
   "cell_type": "code",
   "execution_count": 19,
   "id": "815b8b83",
   "metadata": {},
   "outputs": [
    {
     "name": "stdout",
     "output_type": "stream",
     "text": [
      "The data type of 1 is <class 'str'>\n",
      "The data type of 2 is <class 'str'>\n",
      "The data type of 3 is <class 'str'>\n",
      "The data type of 4 is <class 'str'>\n",
      "The data type of 5 is <class 'str'>\n",
      "The data type of 1 is <class 'numpy.str_'>\n",
      "The data type of 2 is <class 'numpy.str_'>\n",
      "The data type of 3 is <class 'numpy.str_'>\n",
      "The data type of 4 is <class 'numpy.str_'>\n",
      "The data type of 5 is <class 'numpy.str_'>\n"
     ]
    }
   ],
   "source": [
    "# Q2. Write a code to print the data type of each and every element of both the variables list_ and\n",
    "# arra_list.\n",
    "for i in list_:\n",
    "    print(f\"The data type of {i} is {type(i)}\")\n",
    "for k in array_list:\n",
    "    print(f\"The data type of {k} is {type(k)}\")"
   ]
  },
  {
   "cell_type": "code",
   "execution_count": 22,
   "id": "406813de",
   "metadata": {},
   "outputs": [
    {
     "name": "stdout",
     "output_type": "stream",
     "text": [
      "The data type of 1 is <class 'str'>\n",
      "The data type of 2 is <class 'str'>\n",
      "The data type of 3 is <class 'str'>\n",
      "The data type of 4 is <class 'str'>\n",
      "The data type of 5 is <class 'str'>\n",
      "The data type of 1 is <class 'numpy.int32'>\n",
      "The data type of 2 is <class 'numpy.int32'>\n",
      "The data type of 3 is <class 'numpy.int32'>\n",
      "The data type of 4 is <class 'numpy.int32'>\n",
      "The data type of 5 is <class 'numpy.int32'>\n"
     ]
    }
   ],
   "source": [
    "# Q3. Considering the following changes in the variable, array_list:\n",
    "# array_list = np.array(object = list_, dtype = int)\n",
    "# Will there be any difference in the data type of the elements present in both the variables, list_ and\n",
    "# arra_list? If so then print the data types of each and every element present in both the variables, list_\n",
    "# and arra_list.\n",
    "# Ans:Yes the data type of list_ and array_list is different from each other \n",
    "for i in list_:\n",
    "    print(f\"The data type of {i} is {type(i)}\")\n",
    "for k in array_list:\n",
    "    print(f\"The data type of {k} is {type(k)}\")\n"
   ]
  },
  {
   "cell_type": "code",
   "execution_count": 23,
   "id": "4da4038b",
   "metadata": {},
   "outputs": [],
   "source": [
    "# Consider the below code to answer further questions:\n",
    "import numpy as np\n",
    "num_list = [ [ 1 , 2 , 3 ] , [ 4 , 5 , 6 ] ]\n",
    "num_array = np.array(object = num_list)\n"
   ]
  },
  {
   "cell_type": "code",
   "execution_count": 30,
   "id": "296965ff",
   "metadata": {},
   "outputs": [
    {
     "data": {
      "text/plain": [
       "(2, 3)"
      ]
     },
     "execution_count": 30,
     "metadata": {},
     "output_type": "execute_result"
    }
   ],
   "source": [
    "# Q4. Write a code to find the following characteristics of variable, num_array:\n",
    "# (i) shape\n",
    "np.shape(num_array)"
   ]
  },
  {
   "cell_type": "code",
   "execution_count": 28,
   "id": "837d8fe4",
   "metadata": {},
   "outputs": [
    {
     "data": {
      "text/plain": [
       "6"
      ]
     },
     "execution_count": 28,
     "metadata": {},
     "output_type": "execute_result"
    }
   ],
   "source": [
    "# (ii) size\n",
    "np.size(num_array)"
   ]
  },
  {
   "cell_type": "code",
   "execution_count": 41,
   "id": "66bd642d",
   "metadata": {},
   "outputs": [
    {
     "data": {
      "text/plain": [
       "array([[0., 0., 0.],\n",
       "       [0., 0., 0.],\n",
       "       [0., 0., 0.]])"
      ]
     },
     "execution_count": 41,
     "metadata": {},
     "output_type": "execute_result"
    }
   ],
   "source": [
    "# Q5. Write a code to create numpy array of 3*3 matrix containing zeros only, using a numpy array\n",
    "# creation function.\n",
    "# [Hint: The size of the array will be 9 and the shape will be (3,3).]\n",
    "np.zeros(shape=(3,3))"
   ]
  },
  {
   "cell_type": "code",
   "execution_count": 42,
   "id": "c40dee47",
   "metadata": {},
   "outputs": [
    {
     "data": {
      "text/plain": [
       "array([[1., 0., 0., 0., 0.],\n",
       "       [0., 1., 0., 0., 0.],\n",
       "       [0., 0., 1., 0., 0.],\n",
       "       [0., 0., 0., 1., 0.],\n",
       "       [0., 0., 0., 0., 1.]])"
      ]
     },
     "execution_count": 42,
     "metadata": {},
     "output_type": "execute_result"
    }
   ],
   "source": [
    "# Q6. Create an identity matrix of shape (5,5) using numpy functions?\n",
    "# [Hint: An identity matrix is a matrix containing 1 diagonally and other elements will be 0.]\n",
    "np.eye(5)"
   ]
  },
  {
   "cell_type": "code",
   "execution_count": null,
   "id": "d99410e8",
   "metadata": {},
   "outputs": [],
   "source": []
  },
  {
   "cell_type": "code",
   "execution_count": null,
   "id": "1223e388",
   "metadata": {},
   "outputs": [],
   "source": []
  },
  {
   "cell_type": "code",
   "execution_count": null,
   "id": "1879ecdf",
   "metadata": {},
   "outputs": [],
   "source": []
  },
  {
   "cell_type": "code",
   "execution_count": null,
   "id": "c2e627bd",
   "metadata": {},
   "outputs": [],
   "source": []
  },
  {
   "cell_type": "code",
   "execution_count": null,
   "id": "e2c1fa77",
   "metadata": {},
   "outputs": [],
   "source": []
  },
  {
   "cell_type": "code",
   "execution_count": null,
   "id": "8bc5123f",
   "metadata": {},
   "outputs": [],
   "source": []
  },
  {
   "cell_type": "code",
   "execution_count": null,
   "id": "55a39513",
   "metadata": {},
   "outputs": [],
   "source": []
  },
  {
   "cell_type": "code",
   "execution_count": null,
   "id": "14508c62",
   "metadata": {},
   "outputs": [],
   "source": []
  },
  {
   "cell_type": "code",
   "execution_count": null,
   "id": "6c0611dd",
   "metadata": {},
   "outputs": [],
   "source": []
  },
  {
   "cell_type": "code",
   "execution_count": null,
   "id": "b98d5b13",
   "metadata": {},
   "outputs": [],
   "source": []
  }
 ],
 "metadata": {
  "kernelspec": {
   "display_name": "Python 3 (ipykernel)",
   "language": "python",
   "name": "python3"
  },
  "language_info": {
   "codemirror_mode": {
    "name": "ipython",
    "version": 3
   },
   "file_extension": ".py",
   "mimetype": "text/x-python",
   "name": "python",
   "nbconvert_exporter": "python",
   "pygments_lexer": "ipython3",
   "version": "3.10.5"
  }
 },
 "nbformat": 4,
 "nbformat_minor": 5
}
